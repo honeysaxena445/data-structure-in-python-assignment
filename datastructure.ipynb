{
 "cells": [
  {
   "cell_type": "code",
   "execution_count": 1,
   "id": "9a3df15c-1f1b-4732-8880-105eafa94ed8",
   "metadata": {},
   "outputs": [
    {
     "name": "stdout",
     "output_type": "stream",
     "text": [
      "kooboviv\n"
     ]
    }
   ],
   "source": [
    "# write a code to revese a string\n",
    "str = \"vivobook\"\n",
    "print(str[::-1])\n"
   ]
  },
  {
   "cell_type": "code",
   "execution_count": 2,
   "id": "01ffe602-9d00-4a66-af4a-7b08811bf7d5",
   "metadata": {},
   "outputs": [
    {
     "name": "stdout",
     "output_type": "stream",
     "text": [
      "2\n"
     ]
    }
   ],
   "source": [
    "# write a code to count the number of vowels in a string\n",
    "string = \"cricket\"\n",
    "vow = \"a\",\"e\",\"i\",\"o\",\"u\"\n",
    "count = 0\n",
    "for char in string:\n",
    "    if char in vow :\n",
    "      count = count +1\n",
    "print(count)"
   ]
  },
  {
   "cell_type": "code",
   "execution_count": null,
   "id": "23896e79-aefa-4b72-b96f-f036c57b957e",
   "metadata": {},
   "outputs": [],
   "source": [
    "# write a code to check if the given string is palindrome or not\n",
    "String = \"anna\"\n",
    "if String ==String[::-1]:\n",
    "  print(String + \" \" \"yes its a palindrome\")\n",
    "else:\n",
    "  print(String + \"No its not a palindrome\")"
   ]
  },
  {
   "cell_type": "code",
   "execution_count": null,
   "id": "ea7ef3a8-c2fd-467e-8261-c59b091f75c3",
   "metadata": {},
   "outputs": [],
   "source": [
    "# write a code to check two given string are anagrams of each other\n",
    "str1 = \"state\"\n",
    "str2 = \"taste\"\n",
    "if len(str1)!=len(str2):\n",
    "    print(\"strings are not anagrams\")\n",
    "else:\n",
    "    if sorted(str1)==sorted(str2):\n",
    "        print(\"strings are anagrams of each other\")\n",
    "    else:\n",
    "        print(\"no strings are not anagrams of each other\")"
   ]
  },
  {
   "cell_type": "code",
   "execution_count": null,
   "id": "485a035f-3473-499a-9001-6b96c0522ee8",
   "metadata": {},
   "outputs": [],
   "source": [
    "# Write  code to find all occurrence of  given subtring within another string\n",
    "string1 = \"i'am a good boy\"\n",
    "substring = \"good\"\n",
    "if substring in string1:\n",
    "  print(\"substring is present\")\n",
    "else:\n",
    "  print(\"substring is not present\")"
   ]
  },
  {
   "cell_type": "code",
   "execution_count": null,
   "id": "58c78ba9-e45c-445a-8b7c-6188735d615e",
   "metadata": {},
   "outputs": [],
   "source": [
    "#  perform basic string compression based on the count of repeated characters:\n",
    "\n",
    "strr = input(\"Enter String\")\n",
    "l = list((strr))\n",
    "char = [l.count(ele) for ele in l]\n",
    "d = dict(zip(l,char))\n",
    "print(d)"
   ]
  },
  {
   "cell_type": "code",
   "execution_count": null,
   "id": "c1fdd9c8-fa18-4a77-b0df-45aa40c260d2",
   "metadata": {},
   "outputs": [],
   "source": [
    "# write a code to determine that all the string have unique charcter\n",
    "strrr = input(\"enter a string\")\n",
    "for char in strrr:\n",
    " if strrr.count(char)>1:\n",
    "  print(\"No the string do  not have unique charecter\")\n",
    "  break\n",
    "else:\n",
    "       print(\"yes the given string have unique charecter\")"
   ]
  },
  {
   "cell_type": "code",
   "execution_count": null,
   "id": "0992de77-32a7-48b7-abe5-016c7249bb1d",
   "metadata": {},
   "outputs": [],
   "source": [
    "# write a code to convert the given string into uppercase and lower case\n",
    "given_string = input(\"enter string\")\n",
    "print(given_string.upper())\n",
    "print(given_string.lower())"
   ]
  },
  {
   "cell_type": "code",
   "execution_count": null,
   "id": "7532001f-1745-4681-8a3b-e5d6abb1fef8",
   "metadata": {},
   "outputs": [],
   "source": [
    "# write a code to count the number of words of given string\n",
    "given = input(\"enter the stirng\")\n",
    "print(len(given))"
   ]
  },
  {
   "cell_type": "code",
   "execution_count": null,
   "id": "58100573-1b66-45f4-b94d-18a7075ed0e2",
   "metadata": {},
   "outputs": [],
   "source": [
    "# code to concanate two string without using + operator\n",
    "str7 = input(\"enter first string \")\n",
    "str77 = input(\"enter second stirng \")\n",
    "print(str7,str77)"
   ]
  },
  {
   "cell_type": "code",
   "execution_count": null,
   "id": "656eeb21-0bf6-4330-aa0e-e1ab3b21c336",
   "metadata": {},
   "outputs": [],
   "source": [
    "# code to remove all the occurance of specific element from a list\n",
    "list = [1,2,3,4,5,6,7,4,2]\n",
    "list.remove(4)\n",
    "print(list)"
   ]
  },
  {
   "cell_type": "code",
   "execution_count": null,
   "id": "91e4e564-1bdd-4c30-a45a-ff44da604301",
   "metadata": {},
   "outputs": [],
   "source": [
    "# write a code to find the second largest number in a list\n",
    "list = [23,434,54,65,76,87,98]\n",
    "s=sorted(list)\n",
    "print(s[-2])"
   ]
  },
  {
   "cell_type": "code",
   "execution_count": null,
   "id": "5a7b395b-eb78-47c4-8310-4686c4b655b2",
   "metadata": {},
   "outputs": [],
   "source": [
    "# code for return the dic keys along with their values\n",
    "list = {\"honey\",\"prakhar\",\"saxena\",\"salman\",\"khan\",\"honey\"}\n",
    "count_dict = {}\n",
    "\n",
    "for element in list:\n",
    "   if element in count_dict:\n",
    "\n",
    "    count_dict[element]=element+1\n",
    "   else:\n",
    "\n",
    "    count_dict[element] = 1\n",
    "print(count_dict)"
   ]
  },
  {
   "cell_type": "code",
   "execution_count": null,
   "id": "499cf628-25c3-43c9-99b8-2e23b58d80ce",
   "metadata": {},
   "outputs": [],
   "source": [
    "# write a code to revers a list\n",
    "list1 = [1,2,3,4,5,6]\n",
    "print(list1[::-1])"
   ]
  },
  {
   "cell_type": "code",
   "execution_count": null,
   "id": "a08aa03f-1698-4a52-82e7-c63e791de3c4",
   "metadata": {},
   "outputs": [],
   "source": [
    "# write a code to remove all the duplicate element from list\n",
    "lst = [2,3,1,4,3,1,3,5,7,1,7]\n",
    "lst1 = []\n",
    "for i in lst:\n",
    "  if i not in lst1:\n",
    "    lst1.append(i)\n",
    "print(lst1)"
   ]
  },
  {
   "cell_type": "code",
   "execution_count": null,
   "id": "589d1fe1-63f9-4acc-8761-101b8ed0b1f7",
   "metadata": {},
   "outputs": [],
   "source": [
    "# code to check list is sorted or not\n",
    "lsst = [1,2,1,3,4,5,6,7]\n",
    "s= sorted(lsst)\n",
    "if lsst ==s:\n",
    "  print(\"yes\")\n",
    "else:\n",
    "  print(\"no\")"
   ]
  },
  {
   "cell_type": "code",
   "execution_count": null,
   "id": "fdf1cfab-6e60-4cd4-be35-a79e37ec26ce",
   "metadata": {},
   "outputs": [],
   "source": [
    "# merging two list into one list\n",
    "lsst1 = [2,4,2,8,3,1,5,8,]\n",
    "a=sorted(lsst1)\n",
    "lsst2=[88,55,78,3,5,]\n",
    "b=sorted(lsst2)\n",
    "print(sorted(a+b))"
   ]
  },
  {
   "cell_type": "code",
   "execution_count": null,
   "id": "571ce5b6-8eba-49ba-8daf-362eaa42104a",
   "metadata": {},
   "outputs": [],
   "source": [
    "# code for intersection two given lsit\n",
    "l1 = [3,45,65,77,7,89]\n",
    "l2 = [87,3,77,56,7,45]\n",
    "print(set(l1)&set(l2))"
   ]
  },
  {
   "cell_type": "code",
   "execution_count": null,
   "id": "141a949c-14b8-4765-88e3-1def1e6c8093",
   "metadata": {},
   "outputs": [],
   "source": [
    "# code for union of two list without duplicate\n",
    "l1 = [3,45,65,77,7,89]\n",
    "l2 = [87,3,77,56,7,45]\n",
    "r =[]\n",
    "c = l1+l2\n",
    "for i in c:\n",
    "  if i not in r:\n",
    "   r.append(i)\n",
    "print(r)"
   ]
  },
  {
   "cell_type": "code",
   "execution_count": null,
   "id": "f173655c-f9ec-47c4-b6c8-d4824d36da9b",
   "metadata": {},
   "outputs": [],
   "source": [
    "# suffel a list\n",
    "import random\n",
    "le = [1,2,3,4,5,6,7]\n",
    "le2 =[]\n",
    "run = True\n",
    "while run :\n",
    " var1= random.randint(0,len(le)-1)\n",
    " var2 = le.pop(var1)\n",
    " le2.append(var2)\n",
    " if len(le)==0:\n",
    "    run=False\n",
    "    print(le2)"
   ]
  },
  {
   "cell_type": "code",
   "execution_count": null,
   "id": "9782f000-bfbb-4a10-aca5-d4838d99f8fe",
   "metadata": {},
   "outputs": [],
   "source": [
    "# take two tuples input and return new tuple containing tuple that are common to both\n",
    "t1 ={\"12\",\"honey\",\"45\",\"dhoni\",\"salman\",\"7\"}\n",
    "t2 ={\"7\",\"prakhar\",\"honey\",\"salman\"}\n",
    "\n",
    "t3 = t1.intersection(t2)\n",
    "print(t3)"
   ]
  },
  {
   "cell_type": "code",
   "execution_count": null,
   "id": "ef5064a7-124e-4861-9985-de5a1833894f",
   "metadata": {},
   "outputs": [],
   "source": [
    "# create a code that promotes the user to enter two set of integer seperated by comma\n",
    "set1_str = input(\"Enter the first set of integers separated by commas: \")\n",
    "set2_str = input(\"Enter the second set of integers separated by commas: \")\n",
    "\n",
    "set1 = set(int(x) for x in set1_str.split(\",\"))\n",
    "set2 = set(int(x) for x in set2_str.split(\",\"))\n",
    "\n",
    "intersection = set1.intersection(set2)\n",
    "print(intersection)"
   ]
  },
  {
   "cell_type": "code",
   "execution_count": null,
   "id": "64b85a94-e311-4dad-81df-5925594e39f3",
   "metadata": {},
   "outputs": [],
   "source": [
    "# write a code to  concatenate two tuple\n",
    "t1 = input(\"enter tuples\")\n",
    "t2 =input(\"enter tuples\")\n",
    "t3 = t1+t2\n",
    "print(t3)"
   ]
  },
  {
   "cell_type": "code",
   "execution_count": null,
   "id": "e1670e4e-ee4a-403f-8a1f-ae6f8d8bde75",
   "metadata": {},
   "outputs": [],
   "source": [
    "# take input of 2 set of string and print the element that are present in first  set not second set\n",
    "set1 = set(input(\"Enter the first set of strings separated by commas: \").split(\",\"))\n",
    "set2 = set(input(\"Enter the second set of strings separated by commas: \").split(\",\"))\n",
    "set3 = set1.difference(set2)\n",
    "print(set3)"
   ]
  },
  {
   "cell_type": "code",
   "execution_count": null,
   "id": "a18d5106-08ad-43d8-b3bf-ed35754edd5a",
   "metadata": {},
   "outputs": [],
   "source": [
    "# create a code that take two tuple and two integer as input.the function should return a new tuple containing elements from the original tuple within the specify range of indices\n",
    "tuple1 = input()\n",
    "tuple2=input()\n",
    "start =0\n",
    "end = len(tuple1) or len(tuple2)\n",
    "if start < 0 or end > len(tuple1) or end > len(tuple2) or start > end:\n",
    "        print(\"Invalid range of indices\")\n",
    "sliced_tuple1 = tuple1[start:end]\n",
    "sliced_tuple2 = tuple2[start:end]\n",
    "\n",
    "\n",
    "result_tuple = sliced_tuple1 + sliced_tuple2\n",
    "\n",
    "print(result_tuple)"
   ]
  },
  {
   "cell_type": "code",
   "execution_count": null,
   "id": "33f54fe2-e1b7-4a9d-915a-38b37ebf95c7",
   "metadata": {},
   "outputs": [],
   "source": [
    "# write a code that promopts the user to input two set of charecter  then print the union of these two sets\n",
    "set1_str = input(\"Enter the first set of characters separated by commas: \")\n",
    "set2_str = input(\"Enter the second set of characters separated by commas: \")\n",
    "set1 = set(set1_str.split(\",\"))\n",
    "set2 = set(set2_str.split(\",\"))\n",
    "set3 = set1.union(set2)\n",
    "print(set3)"
   ]
  },
  {
   "cell_type": "code",
   "execution_count": null,
   "id": "1670cf53-e493-45e5-8216-cf055384df9b",
   "metadata": {},
   "outputs": [],
   "source": [
    "# devlop a code that takes a tuple oh integers as input the function should return the maximum and minimum values from the tuple using tuple unpacking\n",
    "input_str = input(\"Enter a tuple of integers separated by commas: \")\n",
    "input_tuple = tuple(int(x) for x in input_str.split(\",\"))\n",
    "if not input_tuple:\n",
    "    print(\"No input provided.\")\n",
    "else:\n",
    "     max_val = input_tuple[0]\n",
    "     min_val = input_tuple[0]\n",
    "     for num in input_tuple:\n",
    "          if num > max_val:\n",
    "                  max_val = num\n",
    "          if num < min_val:\n",
    "                  min_val = num\n",
    "     print(\"Maximum value:\", max_val)\n",
    "     print(\"Minimum value\",min_val)"
   ]
  },
  {
   "cell_type": "code",
   "execution_count": null,
   "id": "4ffce30c-54ab-43ee-add2-71a69ac109cc",
   "metadata": {},
   "outputs": [],
   "source": [
    "# create a code that defines rwo sets of intiger then print the union,intersection and diffrence of these two sets\n",
    "set1_str = input(\"Enter the first set of characters separated by commas: \")\n",
    "set2_str = input(\"Enter the second set of characters separated by commas: \")\n",
    "set1 = set(set1_str.split(\",\"))\n",
    "set2 = set(set2_str.split(\",\"))\n",
    "set3 = set1.union(set2)\n",
    "set4 = set1.intersection(set2)\n",
    "set5 = set1.difference(set2)\n",
    "print(\"union of two sets\",set3)\n",
    "print(\"intersection of two sets\",set4)\n",
    "print(\"difference of two sets\",set5)"
   ]
  },
  {
   "cell_type": "code",
   "execution_count": null,
   "id": "4856df77-f02f-43d9-86d1-2c2415ffd41f",
   "metadata": {},
   "outputs": [],
   "source": [
    "#  29 write a code that takes a tuple and an element as input the function should occurrences of the given elemnet in the tuple\n",
    "inputtuple = (1,5,3,4,5,6,7,8,5,10)\n",
    "element =5\n",
    "count = inputtuple.count(element)\n",
    "print(count)"
   ]
  },
  {
   "cell_type": "code",
   "execution_count": null,
   "id": "84a8895e-3577-499c-9434-5dfc2351a39a",
   "metadata": {},
   "outputs": [],
   "source": [
    "# devlop a code that prompts the user to input two set of string then print the symmetric difference of these two sets\n",
    "def get_set_from_input(prompt):\n",
    "    user_input = input(prompt)\n",
    "    return set(user_input.split(','))\n",
    "\n",
    "def main():\n",
    "    set1 = get_set_from_input(\"Enter the first set of strings separated by commas: \")\n",
    "    set2 = get_set_from_input(\"Enter the second set of strings separated by commas: \")\n",
    "\n",
    "    symmetric_difference = set1.symmetric_difference(set2)\n",
    "\n",
    "    print(\"Symmetric difference of the two sets:\", symmetric_difference)\n",
    "\n",
    "if __name__ == \"__main__\":\n",
    "    main()"
   ]
  },
  {
   "cell_type": "code",
   "execution_count": null,
   "id": "62624387-506e-42fd-850c-54089b97240e",
   "metadata": {},
   "outputs": [],
   "source": [
    "# write a code that take a list of words as input and return a dictionary where the key are unique words and the values are the frequencies of those wordin the input list.\n",
    "word_list= input(\"Enter a list of words separated by commas: \")\n",
    "word_list = word_list.split(',')\n",
    "freq_dict = {}\n",
    "for word in word_list:\n",
    "    if word in freq_dict:\n",
    "        freq_dict[word] += 1\n",
    "    else:\n",
    "        freq_dict[word] = 1\n",
    "\n",
    "print(freq_dict)"
   ]
  },
  {
   "cell_type": "code",
   "execution_count": null,
   "id": "cb9f09d2-bc54-47ec-bb81-dd1e785583e2",
   "metadata": {},
   "outputs": [],
   "source": [
    "# write a code that take two dictionaries as an input and merges them into a single dictionary if there are common keys the value should be added together\n",
    "dict1_str = input(\"Enter the first dictionary as key:value pairs separated by commas: \")\n",
    "dict2_str = input(\"Enter the second dictionary as key:value pairs separated by commas: \")\n",
    "dict1 = {}\n",
    "dict2 = {}\n",
    "\n",
    "for pair in dict1_str.split(','):\n",
    "    key, value = pair.split(':')\n",
    "    dict1[key] = int(value)\n",
    "\n",
    "for pair in dict2_str.split(','):\n",
    "    key, value = pair.split(':')\n",
    "    dict2[key] = int(value)\n",
    "\n",
    "merged_dict = dict1.copy()\n",
    "for key, value in dict2.items():\n",
    "    if key in merged_dict:\n",
    "        merged_dict[key] += value\n",
    "    else:\n",
    "        merged_dict[key] = value\n",
    "\n",
    "print(merged_dict)\n",
    "\n",
    "#\n",
    "def access_nested_dict(nested_dict, keys_list):\n",
    "    current_level = nested_dict\n",
    "\n",
    "\n",
    "    for key in keys_list:\n",
    "        if key in current_level:\n",
    "            current_level = current_level[key]\n",
    "        else:\n",
    "            return None\n",
    "\n",
    "    return current_level\n",
    "\n",
    "nested_dict = {\n",
    "    'a': {\n",
    "        'b': {\n",
    "            'c': 42\n",
    "        }\n",
    "    },\n",
    "    'x': {\n",
    "        'y': {\n",
    "            'z': 99\n",
    "        }\n",
    "    }\n",
    "}\n",
    "\n",
    "keys_list = ['a', 'b', 'c']\n",
    "value = access_nested_dict(nested_dict, keys_list)\n",
    "print(value)\n",
    "\n",
    "keys_list = ['x', 'y', 'z']\n",
    "value = access_nested_dict(nested_dict, keys_list)\n",
    "print(value)\n",
    "\n",
    "keys_list = ['a', 'b', 'd']\n",
    "value = access_nested_dict(nested_dict, keys_list)\n",
    "print(value)"
   ]
  },
  {
   "cell_type": "code",
   "execution_count": null,
   "id": "7f64b01b-72fb-4a14-aa29-74ef6f76c17f",
   "metadata": {},
   "outputs": [],
   "source": [
    "#  Python function that takes a dictionary as input and returns a sorted version of it based on the values. You can choose whether to sort in ascending or descending order:\n",
    "input_dict = {'apple': 2, 'banana': 3, 'cherry': 1, 'date': 4}\n",
    "sorted_items = sorted(input_dict.items(),key=lambda item: item[1])\n",
    "sorted_dict = dict(sorted_items)\n",
    "print(sorted_items)\n",
    "\n",
    "#\n",
    "input_dict= {'apple': 2, 'apple': 3, 'cherry': 1, 'date': 4}\n",
    "\n",
    "inverted_dict = {}\n",
    "\n",
    "for key, value in input_dict.items():\n",
    "      if value in inverted_dict:\n",
    "            inverted_dict[value].append(key)\n",
    "      else:\n",
    "            inverted_dict[value] = [key]\n",
    "print(inverted_dict)"
   ]
  }
 ],
 "metadata": {
  "kernelspec": {
   "display_name": "Python 3 (ipykernel)",
   "language": "python",
   "name": "python3"
  },
  "language_info": {
   "codemirror_mode": {
    "name": "ipython",
    "version": 3
   },
   "file_extension": ".py",
   "mimetype": "text/x-python",
   "name": "python",
   "nbconvert_exporter": "python",
   "pygments_lexer": "ipython3",
   "version": "3.10.8"
  }
 },
 "nbformat": 4,
 "nbformat_minor": 5
}
